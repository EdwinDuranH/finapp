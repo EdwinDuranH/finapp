{
 "cells": [
  {
   "cell_type": "code",
   "execution_count": 5,
   "metadata": {},
   "outputs": [],
   "source": [
    "import pandas as pd\n",
    "import plotly.express as px\n",
    "import matplotlib.pyplot as plt\n",
    "import seaborn as sns\n",
    "import sys\n",
    "import numpy as np\n",
    "\n",
    "\n",
    "sys.path.append(\"../../src/\")\n",
    "\n",
    "from utils.calls import call_industry,call_company"
   ]
  },
  {
   "cell_type": "code",
   "execution_count": 6,
   "metadata": {},
   "outputs": [],
   "source": [
    "df = pd.read_csv('../../data/processed/balances2022.csv',\n",
    "                 dtype={'ruc': str, 'codigo': str, 'valor': float})\n",
    "ciiu = pd.read_csv(\"../../data/processed/balaces2022_ids.csv\",\n",
    "                   dtype={\"ruc\":str})[[\"ruc\",\"ciiu\"]]\n"
   ]
  },
  {
   "cell_type": "code",
   "execution_count": 7,
   "metadata": {},
   "outputs": [
    {
     "data": {
      "text/html": [
       "<div>\n",
       "<style scoped>\n",
       "    .dataframe tbody tr th:only-of-type {\n",
       "        vertical-align: middle;\n",
       "    }\n",
       "\n",
       "    .dataframe tbody tr th {\n",
       "        vertical-align: top;\n",
       "    }\n",
       "\n",
       "    .dataframe thead th {\n",
       "        text-align: right;\n",
       "    }\n",
       "</style>\n",
       "<table border=\"1\" class=\"dataframe\">\n",
       "  <thead>\n",
       "    <tr style=\"text-align: right;\">\n",
       "      <th></th>\n",
       "      <th></th>\n",
       "      <th>valor</th>\n",
       "    </tr>\n",
       "    <tr>\n",
       "      <th>ruc</th>\n",
       "      <th>codigo</th>\n",
       "      <th></th>\n",
       "    </tr>\n",
       "  </thead>\n",
       "  <tbody>\n",
       "    <tr>\n",
       "      <th rowspan=\"5\" valign=\"top\">190151867001</th>\n",
       "      <th>1</th>\n",
       "      <td>3321157.0</td>\n",
       "    </tr>\n",
       "    <tr>\n",
       "      <th>101</th>\n",
       "      <td>3150890.0</td>\n",
       "    </tr>\n",
       "    <tr>\n",
       "      <th>10101</th>\n",
       "      <td>663279.0</td>\n",
       "    </tr>\n",
       "    <tr>\n",
       "      <th>1010101</th>\n",
       "      <td>663279.0</td>\n",
       "    </tr>\n",
       "    <tr>\n",
       "      <th>1010102</th>\n",
       "      <td>1652505.0</td>\n",
       "    </tr>\n",
       "    <tr>\n",
       "      <th>...</th>\n",
       "      <th>...</th>\n",
       "      <td>...</td>\n",
       "    </tr>\n",
       "    <tr>\n",
       "      <th rowspan=\"5\" valign=\"top\">2490397143001</th>\n",
       "      <th>80008</th>\n",
       "      <td>NaN</td>\n",
       "    </tr>\n",
       "    <tr>\n",
       "      <th>80009</th>\n",
       "      <td>0.0</td>\n",
       "    </tr>\n",
       "    <tr>\n",
       "      <th>801</th>\n",
       "      <td>0.0</td>\n",
       "    </tr>\n",
       "    <tr>\n",
       "      <th>80101</th>\n",
       "      <td>0.0</td>\n",
       "    </tr>\n",
       "    <tr>\n",
       "      <th>80102</th>\n",
       "      <td>0.0</td>\n",
       "    </tr>\n",
       "  </tbody>\n",
       "</table>\n",
       "<p>367602 rows × 1 columns</p>\n",
       "</div>"
      ],
      "text/plain": [
       "                           valor\n",
       "ruc           codigo            \n",
       "190151867001  1        3321157.0\n",
       "              101      3150890.0\n",
       "              10101     663279.0\n",
       "              1010101   663279.0\n",
       "              1010102  1652505.0\n",
       "...                          ...\n",
       "2490397143001 80008          NaN\n",
       "              80009          0.0\n",
       "              801            0.0\n",
       "              80101          0.0\n",
       "              80102          0.0\n",
       "\n",
       "[367602 rows x 1 columns]"
      ]
     },
     "metadata": {},
     "output_type": "display_data"
    }
   ],
   "source": [
    "ind_df = call_industry(mother_df = df, ciiu_df = ciiu, ruc = \"1790016919001\")\n",
    "display(ind_df)"
   ]
  },
  {
   "cell_type": "code",
   "execution_count": 8,
   "metadata": {},
   "outputs": [
    {
     "data": {
      "text/html": [
       "<div>\n",
       "<style scoped>\n",
       "    .dataframe tbody tr th:only-of-type {\n",
       "        vertical-align: middle;\n",
       "    }\n",
       "\n",
       "    .dataframe tbody tr th {\n",
       "        vertical-align: top;\n",
       "    }\n",
       "\n",
       "    .dataframe thead th {\n",
       "        text-align: right;\n",
       "    }\n",
       "</style>\n",
       "<table border=\"1\" class=\"dataframe\">\n",
       "  <thead>\n",
       "    <tr style=\"text-align: right;\">\n",
       "      <th></th>\n",
       "      <th></th>\n",
       "      <th>valor</th>\n",
       "    </tr>\n",
       "    <tr>\n",
       "      <th>ruc</th>\n",
       "      <th>codigo</th>\n",
       "      <th></th>\n",
       "    </tr>\n",
       "  </thead>\n",
       "  <tbody>\n",
       "    <tr>\n",
       "      <th rowspan=\"5\" valign=\"top\">1091704184001</th>\n",
       "      <th>1</th>\n",
       "      <td>5.549774e+06</td>\n",
       "    </tr>\n",
       "    <tr>\n",
       "      <th>101</th>\n",
       "      <td>3.565458e+06</td>\n",
       "    </tr>\n",
       "    <tr>\n",
       "      <th>10101</th>\n",
       "      <td>7.468637e+05</td>\n",
       "    </tr>\n",
       "    <tr>\n",
       "      <th>1010101</th>\n",
       "      <td>7.514190e+03</td>\n",
       "    </tr>\n",
       "    <tr>\n",
       "      <th>1010102</th>\n",
       "      <td>0.000000e+00</td>\n",
       "    </tr>\n",
       "    <tr>\n",
       "      <th>...</th>\n",
       "      <th>...</th>\n",
       "      <td>...</td>\n",
       "    </tr>\n",
       "    <tr>\n",
       "      <th rowspan=\"5\" valign=\"top\">other</th>\n",
       "      <th>80008</th>\n",
       "      <td>0.000000e+00</td>\n",
       "    </tr>\n",
       "    <tr>\n",
       "      <th>80009</th>\n",
       "      <td>0.000000e+00</td>\n",
       "    </tr>\n",
       "    <tr>\n",
       "      <th>801</th>\n",
       "      <td>1.516789e+01</td>\n",
       "    </tr>\n",
       "    <tr>\n",
       "      <th>80101</th>\n",
       "      <td>8.794211e+00</td>\n",
       "    </tr>\n",
       "    <tr>\n",
       "      <th>80102</th>\n",
       "      <td>0.000000e+00</td>\n",
       "    </tr>\n",
       "  </tbody>\n",
       "</table>\n",
       "<p>223608 rows × 1 columns</p>\n",
       "</div>"
      ],
      "text/plain": [
       "                              valor\n",
       "ruc           codigo               \n",
       "1091704184001 1        5.549774e+06\n",
       "              101      3.565458e+06\n",
       "              10101    7.468637e+05\n",
       "              1010101  7.514190e+03\n",
       "              1010102  0.000000e+00\n",
       "...                             ...\n",
       "other         80008    0.000000e+00\n",
       "              80009    0.000000e+00\n",
       "              801      1.516789e+01\n",
       "              80101    8.794211e+00\n",
       "              80102    0.000000e+00\n",
       "\n",
       "[223608 rows x 1 columns]"
      ]
     },
     "execution_count": 8,
     "metadata": {},
     "output_type": "execute_result"
    }
   ],
   "source": [
    "def filter_out(ind_df: pd.DataFrame):\n",
    "    ind_df = (\n",
    "    ind_df.pivot_table(index = \"ruc\",columns = \"codigo\",values = \"valor\")\n",
    "    .pipe(lambda df_: df_[df_[\"401\"] > 0])\n",
    "    .pipe(lambda df_: df_[~(df_[\"401\"]< df_[\"401\"].quantile(0.05))])\n",
    "    )\n",
    "    #series with the mean of the companies below the percentile\n",
    "    aggr_comp = ind_df.loc[(ind_df[\"401\"]< ind_df[\"401\"].quantile(0.05))].mean()\n",
    "    #assign the averaged observations \n",
    "    ind_df.loc[\"other\",:] = aggr_comp\n",
    "    ind_df = (\n",
    "        ind_df\n",
    "        .melt(var_name = \"codigo\",value_vars = ind_df.columns,value_name = \"valor\",ignore_index=False)\n",
    "        .reset_index()\n",
    "        .set_index([\"ruc\",\"codigo\"])\n",
    "        .sort_index()\n",
    "        )\n",
    "    \n",
    "    return ind_df\n",
    "ind_df = filter_out(ind_df)\n",
    "ind_df"
   ]
  },
  {
   "cell_type": "code",
   "execution_count": 9,
   "metadata": {},
   "outputs": [
    {
     "data": {
      "text/html": [
       "<div>\n",
       "<style scoped>\n",
       "    .dataframe tbody tr th:only-of-type {\n",
       "        vertical-align: middle;\n",
       "    }\n",
       "\n",
       "    .dataframe tbody tr th {\n",
       "        vertical-align: top;\n",
       "    }\n",
       "\n",
       "    .dataframe thead th {\n",
       "        text-align: right;\n",
       "    }\n",
       "</style>\n",
       "<table border=\"1\" class=\"dataframe\">\n",
       "  <thead>\n",
       "    <tr style=\"text-align: right;\">\n",
       "      <th></th>\n",
       "      <th>codigo</th>\n",
       "      <th>cuenta</th>\n",
       "    </tr>\n",
       "  </thead>\n",
       "  <tbody>\n",
       "    <tr>\n",
       "      <th>365</th>\n",
       "      <td>30601</td>\n",
       "      <td>GANANCIAS ACUMULADAS</td>\n",
       "    </tr>\n",
       "    <tr>\n",
       "      <th>373</th>\n",
       "      <td>30701</td>\n",
       "      <td>GANANCIA NETA DEL PERIODO</td>\n",
       "    </tr>\n",
       "    <tr>\n",
       "      <th>391</th>\n",
       "      <td>40108</td>\n",
       "      <td>GANANCIA POR MEDICION A VALOR RAZONABLE  DE AC...</td>\n",
       "    </tr>\n",
       "    <tr>\n",
       "      <th>416</th>\n",
       "      <td>4011003</td>\n",
       "      <td>GANANCIA EN INVERSIONES EN ASOCIADAS / SUBSIDI...</td>\n",
       "    </tr>\n",
       "    <tr>\n",
       "      <th>418</th>\n",
       "      <td>4011005</td>\n",
       "      <td>GANANCIA EN VENTA DE TITULOS VALORES</td>\n",
       "    </tr>\n",
       "    <tr>\n",
       "      <th>425</th>\n",
       "      <td>402</td>\n",
       "      <td>GANANCIA BRUTA</td>\n",
       "    </tr>\n",
       "    <tr>\n",
       "      <th>427</th>\n",
       "      <td>40301</td>\n",
       "      <td>GANANCIA EN VENTA DE PROPIEDAD, PLANTA Y EQUIPO</td>\n",
       "    </tr>\n",
       "    <tr>\n",
       "      <th>428</th>\n",
       "      <td>40302</td>\n",
       "      <td>GANANCIA EN VENTA DE ACTIVOS BIOLÓGICOS</td>\n",
       "    </tr>\n",
       "    <tr>\n",
       "      <th>593</th>\n",
       "      <td>600</td>\n",
       "      <td>GANANCIA (PÉRDIDA) ANTES DE 15% A TRABAJADORES...</td>\n",
       "    </tr>\n",
       "    <tr>\n",
       "      <th>595</th>\n",
       "      <td>602</td>\n",
       "      <td>GANANCIA (PÉRDIDA) ANTES DE IMPUESTOS</td>\n",
       "    </tr>\n",
       "    <tr>\n",
       "      <th>597</th>\n",
       "      <td>604</td>\n",
       "      <td>GANANCIA (PÉRDIDA) DE OPERACIONES CONTINUADAS ...</td>\n",
       "    </tr>\n",
       "    <tr>\n",
       "      <th>600</th>\n",
       "      <td>607</td>\n",
       "      <td>GANANCIA (PERDIDA) DE OPERACIONES CONTINUADAS</td>\n",
       "    </tr>\n",
       "    <tr>\n",
       "      <th>603</th>\n",
       "      <td>702</td>\n",
       "      <td>GANANCIA (PÉRDIDA) ANTES DE 15% A TRABAJADORES...</td>\n",
       "    </tr>\n",
       "    <tr>\n",
       "      <th>605</th>\n",
       "      <td>704</td>\n",
       "      <td>GANANCIA (PÉRDIDA) ANTES DE IMPUESTOS DE OPERA...</td>\n",
       "    </tr>\n",
       "    <tr>\n",
       "      <th>607</th>\n",
       "      <td>706</td>\n",
       "      <td>GANANCIA (PÉRDIDA) DE OPERACIONES DISCONTINUADAS</td>\n",
       "    </tr>\n",
       "    <tr>\n",
       "      <th>608</th>\n",
       "      <td>707</td>\n",
       "      <td>GANANCIA (PÉRDIDA) NETA DEL PERIODO</td>\n",
       "    </tr>\n",
       "    <tr>\n",
       "      <th>613</th>\n",
       "      <td>80004</td>\n",
       "      <td>GANANCIAS POR REVALUACIÓN DE PROPIEDADES, PLAN...</td>\n",
       "    </tr>\n",
       "    <tr>\n",
       "      <th>614</th>\n",
       "      <td>80005</td>\n",
       "      <td>GANANCIAS (PÉRDIDAS) ACTUARIALES POR PLANES DE...</td>\n",
       "    </tr>\n",
       "    <tr>\n",
       "      <th>617</th>\n",
       "      <td>80008</td>\n",
       "      <td>IMPUESTO SOBRE LAS GANANCIAS RELATIVO A OTRO R...</td>\n",
       "    </tr>\n",
       "  </tbody>\n",
       "</table>\n",
       "</div>"
      ],
      "text/plain": [
       "      codigo                                             cuenta\n",
       "365    30601                               GANANCIAS ACUMULADAS\n",
       "373    30701                          GANANCIA NETA DEL PERIODO\n",
       "391    40108  GANANCIA POR MEDICION A VALOR RAZONABLE  DE AC...\n",
       "416  4011003  GANANCIA EN INVERSIONES EN ASOCIADAS / SUBSIDI...\n",
       "418  4011005               GANANCIA EN VENTA DE TITULOS VALORES\n",
       "425      402                                     GANANCIA BRUTA\n",
       "427    40301    GANANCIA EN VENTA DE PROPIEDAD, PLANTA Y EQUIPO\n",
       "428    40302            GANANCIA EN VENTA DE ACTIVOS BIOLÓGICOS\n",
       "593      600  GANANCIA (PÉRDIDA) ANTES DE 15% A TRABAJADORES...\n",
       "595      602              GANANCIA (PÉRDIDA) ANTES DE IMPUESTOS\n",
       "597      604  GANANCIA (PÉRDIDA) DE OPERACIONES CONTINUADAS ...\n",
       "600      607      GANANCIA (PERDIDA) DE OPERACIONES CONTINUADAS\n",
       "603      702  GANANCIA (PÉRDIDA) ANTES DE 15% A TRABAJADORES...\n",
       "605      704  GANANCIA (PÉRDIDA) ANTES DE IMPUESTOS DE OPERA...\n",
       "607      706   GANANCIA (PÉRDIDA) DE OPERACIONES DISCONTINUADAS\n",
       "608      707                GANANCIA (PÉRDIDA) NETA DEL PERIODO\n",
       "613    80004  GANANCIAS POR REVALUACIÓN DE PROPIEDADES, PLAN...\n",
       "614    80005  GANANCIAS (PÉRDIDAS) ACTUARIALES POR PLANES DE...\n",
       "617    80008  IMPUESTO SOBRE LAS GANANCIAS RELATIVO A OTRO R..."
      ]
     },
     "execution_count": 9,
     "metadata": {},
     "output_type": "execute_result"
    }
   ],
   "source": [
    "(\n",
    "pd.read_csv(\"../../data/processed/balances2022_meta.csv\")\n",
    ".pipe(lambda df_: df_.assign(codigo = df_[\"codigo\"].astype(str)))\n",
    ".query(\"cuenta.str.contains('GANANCIA')\")\n",
    " )\n"
   ]
  },
  {
   "cell_type": "code",
   "execution_count": 29,
   "metadata": {},
   "outputs": [
    {
     "name": "stdout",
     "output_type": "stream",
     "text": [
      "363\n"
     ]
    },
    {
     "data": {
      "text/html": [
       "<div>\n",
       "<style scoped>\n",
       "    .dataframe tbody tr th:only-of-type {\n",
       "        vertical-align: middle;\n",
       "    }\n",
       "\n",
       "    .dataframe tbody tr th {\n",
       "        vertical-align: top;\n",
       "    }\n",
       "\n",
       "    .dataframe thead th {\n",
       "        text-align: right;\n",
       "    }\n",
       "</style>\n",
       "<table border=\"1\" class=\"dataframe\">\n",
       "  <thead>\n",
       "    <tr style=\"text-align: right;\">\n",
       "      <th></th>\n",
       "      <th></th>\n",
       "      <th>valor</th>\n",
       "    </tr>\n",
       "    <tr>\n",
       "      <th>ruc</th>\n",
       "      <th>codigo</th>\n",
       "      <th></th>\n",
       "    </tr>\n",
       "  </thead>\n",
       "  <tbody>\n",
       "    <tr>\n",
       "      <th rowspan=\"5\" valign=\"top\">1792153050001</th>\n",
       "      <th>current ratio</th>\n",
       "      <td>1.761025</td>\n",
       "    </tr>\n",
       "    <tr>\n",
       "      <th>quick ratio</th>\n",
       "      <td>1.233304</td>\n",
       "    </tr>\n",
       "    <tr>\n",
       "      <th>debt vs equity</th>\n",
       "      <td>0.853438</td>\n",
       "    </tr>\n",
       "    <tr>\n",
       "      <th>return on assets</th>\n",
       "      <td>0.017217</td>\n",
       "    </tr>\n",
       "    <tr>\n",
       "      <th>return on equity</th>\n",
       "      <td>0.031911</td>\n",
       "    </tr>\n",
       "    <tr>\n",
       "      <th rowspan=\"5\" valign=\"top\">industry</th>\n",
       "      <th>current ratio</th>\n",
       "      <td>1.410301</td>\n",
       "    </tr>\n",
       "    <tr>\n",
       "      <th>quick ratio</th>\n",
       "      <td>0.903284</td>\n",
       "    </tr>\n",
       "    <tr>\n",
       "      <th>debt vs equity</th>\n",
       "      <td>1.491393</td>\n",
       "    </tr>\n",
       "    <tr>\n",
       "      <th>return on assets</th>\n",
       "      <td>0.013975</td>\n",
       "    </tr>\n",
       "    <tr>\n",
       "      <th>return on equity</th>\n",
       "      <td>0.119093</td>\n",
       "    </tr>\n",
       "  </tbody>\n",
       "</table>\n",
       "</div>"
      ],
      "text/plain": [
       "                                   valor\n",
       "ruc           codigo                    \n",
       "1792153050001 current ratio     1.761025\n",
       "              quick ratio       1.233304\n",
       "              debt vs equity    0.853438\n",
       "              return on assets  0.017217\n",
       "              return on equity  0.031911\n",
       "industry      current ratio     1.410301\n",
       "              quick ratio       0.903284\n",
       "              debt vs equity    1.491393\n",
       "              return on assets  0.013975\n",
       "              return on equity  0.119093"
      ]
     },
     "metadata": {},
     "output_type": "display_data"
    }
   ],
   "source": [
    "def metrics_calc(ind_df: pd.DataFrame, ruc: str, kind:str = \"industry\"):\n",
    "    metrics = (pd.DataFrame(columns = ind_df.reset_index().columns)\n",
    "               .set_index([\"ruc\",\"codigo\"]))\n",
    "\n",
    "    # Check if the \"kind\" argument is valid\n",
    "    if kind not in (\"industry\", \"individual\"):\n",
    "        raise ValueError(\"Invalid value for 'kind' argument. Use 'industry' or 'individual'.\")\n",
    "\n",
    "    rucs = set(ind_df.index.get_level_values(0))\n",
    "    print(len(rucs))\n",
    "    for r_tuple in rucs:\n",
    "        #curent ratio\n",
    "        current = (ind_df.loc[(r_tuple,\"101\"),:]/ind_df.loc[(r_tuple,\"201\"),:])\n",
    "        metrics.loc[(r_tuple,\"current ratio\"),:] = current\n",
    "        #quick ratio\n",
    "        quick = (ind_df.loc[(r_tuple,\"101\"),:]-ind_df.loc[(r_tuple,\"10103\"),:])/ind_df.loc[(r_tuple,\"201\"),:]\n",
    "        metrics.loc[(r_tuple,\"quick ratio\"),:] = quick\n",
    "        #D/E ratio\n",
    "        dve = ind_df.loc[(r_tuple,\"2\")]/ind_df.loc[(r_tuple,\"3\")]\n",
    "        metrics.loc[(r_tuple,\"debt vs equity\"),:] = dve\n",
    "        #ROA\n",
    "        roa = ind_df.loc[(r_tuple,\"600\"),:]/ind_df.loc[(r_tuple,\"1\"),:]\n",
    "        metrics.loc[(r_tuple,\"return on assets\"),:] = roa\n",
    "        #ROE\n",
    "        roe = ind_df.loc[(r_tuple,\"600\"),:]/ind_df.loc[(r_tuple,\"3\"),:]\n",
    "        metrics.loc[(r_tuple,\"return on equity\"),:] = roe\n",
    "\n",
    "\n",
    "    #if a complete industry comparison is needed then:\n",
    "    if kind == \"industry\":\n",
    "        #extract info from desired company\n",
    "        comp_metrics = metrics.xs(str(ruc),level = 0,drop_level = False)\n",
    "        #metrics from industry sans company\n",
    "        ind_metrics = (\n",
    "            metrics\n",
    "            .loc[metrics.index.get_level_values(0) != str(ruc)]\n",
    "            .pipe(lambda df_: pd.concat({\"industry\":df_.groupby(level = \"codigo\",sort = False).median()},names = [\"ruc\"]))\n",
    "        )\n",
    "        metrics = pd.concat([comp_metrics,ind_metrics])\n",
    "    return metrics  \n",
    "metrics = metrics_calc(ind_df = ind_df,ruc = \"1792153050001\",kind = \"industry\")\n",
    "display(metrics)"
   ]
  },
  {
   "cell_type": "code",
   "execution_count": 35,
   "metadata": {},
   "outputs": [
    {
     "data": {
      "application/vnd.plotly.v1+json": {
       "config": {
        "plotlyServerURL": "https://plot.ly"
       },
       "data": [
        {
         "fill": "toself",
         "hovertemplate": "ruc=1792153050001<br>valor=%{r}<br>codigo=%{theta}<extra></extra>",
         "legendgroup": "1792153050001",
         "line": {
          "color": "#636efa",
          "dash": "solid"
         },
         "marker": {
          "symbol": "circle"
         },
         "mode": "lines",
         "name": "1792153050001",
         "r": [
          1.7610250767744968,
          1.233304398480317,
          0.8534378333413135,
          0.017217358520981177,
          0.03191130367298795,
          1.7610250767744968
         ],
         "showlegend": true,
         "subplot": "polar",
         "theta": [
          "current ratio",
          "quick ratio",
          "debt vs equity",
          "return on assets",
          "return on equity",
          "current ratio"
         ],
         "type": "scatterpolar"
        },
        {
         "fill": "toself",
         "hovertemplate": "ruc=industry<br>valor=%{r}<br>codigo=%{theta}<extra></extra>",
         "legendgroup": "industry",
         "line": {
          "color": "#EF553B",
          "dash": "solid"
         },
         "marker": {
          "symbol": "circle"
         },
         "mode": "lines",
         "name": "industry",
         "r": [
          1.4103009997932865,
          0.9032843273850998,
          1.4913927444953337,
          0.013974777023853295,
          0.11909262643000781,
          1.4103009997932865
         ],
         "showlegend": true,
         "subplot": "polar",
         "theta": [
          "current ratio",
          "quick ratio",
          "debt vs equity",
          "return on assets",
          "return on equity",
          "current ratio"
         ],
         "type": "scatterpolar"
        }
       ],
       "layout": {
        "legend": {
         "title": {
          "text": "ruc"
         },
         "tracegroupgap": 0
        },
        "margin": {
         "t": 60
        },
        "polar": {
         "angularaxis": {
          "direction": "clockwise",
          "rotation": 90
         },
         "domain": {
          "x": [
           0,
           1
          ],
          "y": [
           0,
           1
          ]
         },
         "radialaxis": {
          "range": [
           -0.5,
           1.7610250767744968
          ]
         }
        },
        "template": {
         "data": {
          "bar": [
           {
            "error_x": {
             "color": "#2a3f5f"
            },
            "error_y": {
             "color": "#2a3f5f"
            },
            "marker": {
             "line": {
              "color": "#E5ECF6",
              "width": 0.5
             },
             "pattern": {
              "fillmode": "overlay",
              "size": 10,
              "solidity": 0.2
             }
            },
            "type": "bar"
           }
          ],
          "barpolar": [
           {
            "marker": {
             "line": {
              "color": "#E5ECF6",
              "width": 0.5
             },
             "pattern": {
              "fillmode": "overlay",
              "size": 10,
              "solidity": 0.2
             }
            },
            "type": "barpolar"
           }
          ],
          "carpet": [
           {
            "aaxis": {
             "endlinecolor": "#2a3f5f",
             "gridcolor": "white",
             "linecolor": "white",
             "minorgridcolor": "white",
             "startlinecolor": "#2a3f5f"
            },
            "baxis": {
             "endlinecolor": "#2a3f5f",
             "gridcolor": "white",
             "linecolor": "white",
             "minorgridcolor": "white",
             "startlinecolor": "#2a3f5f"
            },
            "type": "carpet"
           }
          ],
          "choropleth": [
           {
            "colorbar": {
             "outlinewidth": 0,
             "ticks": ""
            },
            "type": "choropleth"
           }
          ],
          "contour": [
           {
            "colorbar": {
             "outlinewidth": 0,
             "ticks": ""
            },
            "colorscale": [
             [
              0,
              "#0d0887"
             ],
             [
              0.1111111111111111,
              "#46039f"
             ],
             [
              0.2222222222222222,
              "#7201a8"
             ],
             [
              0.3333333333333333,
              "#9c179e"
             ],
             [
              0.4444444444444444,
              "#bd3786"
             ],
             [
              0.5555555555555556,
              "#d8576b"
             ],
             [
              0.6666666666666666,
              "#ed7953"
             ],
             [
              0.7777777777777778,
              "#fb9f3a"
             ],
             [
              0.8888888888888888,
              "#fdca26"
             ],
             [
              1,
              "#f0f921"
             ]
            ],
            "type": "contour"
           }
          ],
          "contourcarpet": [
           {
            "colorbar": {
             "outlinewidth": 0,
             "ticks": ""
            },
            "type": "contourcarpet"
           }
          ],
          "heatmap": [
           {
            "colorbar": {
             "outlinewidth": 0,
             "ticks": ""
            },
            "colorscale": [
             [
              0,
              "#0d0887"
             ],
             [
              0.1111111111111111,
              "#46039f"
             ],
             [
              0.2222222222222222,
              "#7201a8"
             ],
             [
              0.3333333333333333,
              "#9c179e"
             ],
             [
              0.4444444444444444,
              "#bd3786"
             ],
             [
              0.5555555555555556,
              "#d8576b"
             ],
             [
              0.6666666666666666,
              "#ed7953"
             ],
             [
              0.7777777777777778,
              "#fb9f3a"
             ],
             [
              0.8888888888888888,
              "#fdca26"
             ],
             [
              1,
              "#f0f921"
             ]
            ],
            "type": "heatmap"
           }
          ],
          "heatmapgl": [
           {
            "colorbar": {
             "outlinewidth": 0,
             "ticks": ""
            },
            "colorscale": [
             [
              0,
              "#0d0887"
             ],
             [
              0.1111111111111111,
              "#46039f"
             ],
             [
              0.2222222222222222,
              "#7201a8"
             ],
             [
              0.3333333333333333,
              "#9c179e"
             ],
             [
              0.4444444444444444,
              "#bd3786"
             ],
             [
              0.5555555555555556,
              "#d8576b"
             ],
             [
              0.6666666666666666,
              "#ed7953"
             ],
             [
              0.7777777777777778,
              "#fb9f3a"
             ],
             [
              0.8888888888888888,
              "#fdca26"
             ],
             [
              1,
              "#f0f921"
             ]
            ],
            "type": "heatmapgl"
           }
          ],
          "histogram": [
           {
            "marker": {
             "pattern": {
              "fillmode": "overlay",
              "size": 10,
              "solidity": 0.2
             }
            },
            "type": "histogram"
           }
          ],
          "histogram2d": [
           {
            "colorbar": {
             "outlinewidth": 0,
             "ticks": ""
            },
            "colorscale": [
             [
              0,
              "#0d0887"
             ],
             [
              0.1111111111111111,
              "#46039f"
             ],
             [
              0.2222222222222222,
              "#7201a8"
             ],
             [
              0.3333333333333333,
              "#9c179e"
             ],
             [
              0.4444444444444444,
              "#bd3786"
             ],
             [
              0.5555555555555556,
              "#d8576b"
             ],
             [
              0.6666666666666666,
              "#ed7953"
             ],
             [
              0.7777777777777778,
              "#fb9f3a"
             ],
             [
              0.8888888888888888,
              "#fdca26"
             ],
             [
              1,
              "#f0f921"
             ]
            ],
            "type": "histogram2d"
           }
          ],
          "histogram2dcontour": [
           {
            "colorbar": {
             "outlinewidth": 0,
             "ticks": ""
            },
            "colorscale": [
             [
              0,
              "#0d0887"
             ],
             [
              0.1111111111111111,
              "#46039f"
             ],
             [
              0.2222222222222222,
              "#7201a8"
             ],
             [
              0.3333333333333333,
              "#9c179e"
             ],
             [
              0.4444444444444444,
              "#bd3786"
             ],
             [
              0.5555555555555556,
              "#d8576b"
             ],
             [
              0.6666666666666666,
              "#ed7953"
             ],
             [
              0.7777777777777778,
              "#fb9f3a"
             ],
             [
              0.8888888888888888,
              "#fdca26"
             ],
             [
              1,
              "#f0f921"
             ]
            ],
            "type": "histogram2dcontour"
           }
          ],
          "mesh3d": [
           {
            "colorbar": {
             "outlinewidth": 0,
             "ticks": ""
            },
            "type": "mesh3d"
           }
          ],
          "parcoords": [
           {
            "line": {
             "colorbar": {
              "outlinewidth": 0,
              "ticks": ""
             }
            },
            "type": "parcoords"
           }
          ],
          "pie": [
           {
            "automargin": true,
            "type": "pie"
           }
          ],
          "scatter": [
           {
            "fillpattern": {
             "fillmode": "overlay",
             "size": 10,
             "solidity": 0.2
            },
            "type": "scatter"
           }
          ],
          "scatter3d": [
           {
            "line": {
             "colorbar": {
              "outlinewidth": 0,
              "ticks": ""
             }
            },
            "marker": {
             "colorbar": {
              "outlinewidth": 0,
              "ticks": ""
             }
            },
            "type": "scatter3d"
           }
          ],
          "scattercarpet": [
           {
            "marker": {
             "colorbar": {
              "outlinewidth": 0,
              "ticks": ""
             }
            },
            "type": "scattercarpet"
           }
          ],
          "scattergeo": [
           {
            "marker": {
             "colorbar": {
              "outlinewidth": 0,
              "ticks": ""
             }
            },
            "type": "scattergeo"
           }
          ],
          "scattergl": [
           {
            "marker": {
             "colorbar": {
              "outlinewidth": 0,
              "ticks": ""
             }
            },
            "type": "scattergl"
           }
          ],
          "scattermapbox": [
           {
            "marker": {
             "colorbar": {
              "outlinewidth": 0,
              "ticks": ""
             }
            },
            "type": "scattermapbox"
           }
          ],
          "scatterpolar": [
           {
            "marker": {
             "colorbar": {
              "outlinewidth": 0,
              "ticks": ""
             }
            },
            "type": "scatterpolar"
           }
          ],
          "scatterpolargl": [
           {
            "marker": {
             "colorbar": {
              "outlinewidth": 0,
              "ticks": ""
             }
            },
            "type": "scatterpolargl"
           }
          ],
          "scatterternary": [
           {
            "marker": {
             "colorbar": {
              "outlinewidth": 0,
              "ticks": ""
             }
            },
            "type": "scatterternary"
           }
          ],
          "surface": [
           {
            "colorbar": {
             "outlinewidth": 0,
             "ticks": ""
            },
            "colorscale": [
             [
              0,
              "#0d0887"
             ],
             [
              0.1111111111111111,
              "#46039f"
             ],
             [
              0.2222222222222222,
              "#7201a8"
             ],
             [
              0.3333333333333333,
              "#9c179e"
             ],
             [
              0.4444444444444444,
              "#bd3786"
             ],
             [
              0.5555555555555556,
              "#d8576b"
             ],
             [
              0.6666666666666666,
              "#ed7953"
             ],
             [
              0.7777777777777778,
              "#fb9f3a"
             ],
             [
              0.8888888888888888,
              "#fdca26"
             ],
             [
              1,
              "#f0f921"
             ]
            ],
            "type": "surface"
           }
          ],
          "table": [
           {
            "cells": {
             "fill": {
              "color": "#EBF0F8"
             },
             "line": {
              "color": "white"
             }
            },
            "header": {
             "fill": {
              "color": "#C8D4E3"
             },
             "line": {
              "color": "white"
             }
            },
            "type": "table"
           }
          ]
         },
         "layout": {
          "annotationdefaults": {
           "arrowcolor": "#2a3f5f",
           "arrowhead": 0,
           "arrowwidth": 1
          },
          "autotypenumbers": "strict",
          "coloraxis": {
           "colorbar": {
            "outlinewidth": 0,
            "ticks": ""
           }
          },
          "colorscale": {
           "diverging": [
            [
             0,
             "#8e0152"
            ],
            [
             0.1,
             "#c51b7d"
            ],
            [
             0.2,
             "#de77ae"
            ],
            [
             0.3,
             "#f1b6da"
            ],
            [
             0.4,
             "#fde0ef"
            ],
            [
             0.5,
             "#f7f7f7"
            ],
            [
             0.6,
             "#e6f5d0"
            ],
            [
             0.7,
             "#b8e186"
            ],
            [
             0.8,
             "#7fbc41"
            ],
            [
             0.9,
             "#4d9221"
            ],
            [
             1,
             "#276419"
            ]
           ],
           "sequential": [
            [
             0,
             "#0d0887"
            ],
            [
             0.1111111111111111,
             "#46039f"
            ],
            [
             0.2222222222222222,
             "#7201a8"
            ],
            [
             0.3333333333333333,
             "#9c179e"
            ],
            [
             0.4444444444444444,
             "#bd3786"
            ],
            [
             0.5555555555555556,
             "#d8576b"
            ],
            [
             0.6666666666666666,
             "#ed7953"
            ],
            [
             0.7777777777777778,
             "#fb9f3a"
            ],
            [
             0.8888888888888888,
             "#fdca26"
            ],
            [
             1,
             "#f0f921"
            ]
           ],
           "sequentialminus": [
            [
             0,
             "#0d0887"
            ],
            [
             0.1111111111111111,
             "#46039f"
            ],
            [
             0.2222222222222222,
             "#7201a8"
            ],
            [
             0.3333333333333333,
             "#9c179e"
            ],
            [
             0.4444444444444444,
             "#bd3786"
            ],
            [
             0.5555555555555556,
             "#d8576b"
            ],
            [
             0.6666666666666666,
             "#ed7953"
            ],
            [
             0.7777777777777778,
             "#fb9f3a"
            ],
            [
             0.8888888888888888,
             "#fdca26"
            ],
            [
             1,
             "#f0f921"
            ]
           ]
          },
          "colorway": [
           "#636efa",
           "#EF553B",
           "#00cc96",
           "#ab63fa",
           "#FFA15A",
           "#19d3f3",
           "#FF6692",
           "#B6E880",
           "#FF97FF",
           "#FECB52"
          ],
          "font": {
           "color": "#2a3f5f"
          },
          "geo": {
           "bgcolor": "white",
           "lakecolor": "white",
           "landcolor": "#E5ECF6",
           "showlakes": true,
           "showland": true,
           "subunitcolor": "white"
          },
          "hoverlabel": {
           "align": "left"
          },
          "hovermode": "closest",
          "mapbox": {
           "style": "light"
          },
          "paper_bgcolor": "white",
          "plot_bgcolor": "#E5ECF6",
          "polar": {
           "angularaxis": {
            "gridcolor": "white",
            "linecolor": "white",
            "ticks": ""
           },
           "bgcolor": "#E5ECF6",
           "radialaxis": {
            "gridcolor": "white",
            "linecolor": "white",
            "ticks": ""
           }
          },
          "scene": {
           "xaxis": {
            "backgroundcolor": "#E5ECF6",
            "gridcolor": "white",
            "gridwidth": 2,
            "linecolor": "white",
            "showbackground": true,
            "ticks": "",
            "zerolinecolor": "white"
           },
           "yaxis": {
            "backgroundcolor": "#E5ECF6",
            "gridcolor": "white",
            "gridwidth": 2,
            "linecolor": "white",
            "showbackground": true,
            "ticks": "",
            "zerolinecolor": "white"
           },
           "zaxis": {
            "backgroundcolor": "#E5ECF6",
            "gridcolor": "white",
            "gridwidth": 2,
            "linecolor": "white",
            "showbackground": true,
            "ticks": "",
            "zerolinecolor": "white"
           }
          },
          "shapedefaults": {
           "line": {
            "color": "#2a3f5f"
           }
          },
          "ternary": {
           "aaxis": {
            "gridcolor": "white",
            "linecolor": "white",
            "ticks": ""
           },
           "baxis": {
            "gridcolor": "white",
            "linecolor": "white",
            "ticks": ""
           },
           "bgcolor": "#E5ECF6",
           "caxis": {
            "gridcolor": "white",
            "linecolor": "white",
            "ticks": ""
           }
          },
          "title": {
           "x": 0.05
          },
          "xaxis": {
           "automargin": true,
           "gridcolor": "white",
           "linecolor": "white",
           "ticks": "",
           "title": {
            "standoff": 15
           },
           "zerolinecolor": "white",
           "zerolinewidth": 2
          },
          "yaxis": {
           "automargin": true,
           "gridcolor": "white",
           "linecolor": "white",
           "ticks": "",
           "title": {
            "standoff": 15
           },
           "zerolinecolor": "white",
           "zerolinewidth": 2
          }
         }
        }
       }
      }
     },
     "metadata": {},
     "output_type": "display_data"
    }
   ],
   "source": [
    "def plot_comparison(metrics: pd.DataFrame):\n",
    "    fig = px.line_polar(metrics.reset_index(), r= \"valor\", theta = \"codigo\", color = \"ruc\",line_close = True,range_r = (-0.5,metrics[\"valor\"].max()))\n",
    "    fig.update_traces(fill = \"toself\")\n",
    "    fig.show()\n",
    "plot_comparison(metrics)"
   ]
  },
  {
   "cell_type": "markdown",
   "metadata": {},
   "source": [
    "**Comparative graph for a single company**"
   ]
  },
  {
   "cell_type": "code",
   "execution_count": 18,
   "metadata": {},
   "outputs": [],
   "source": [
    "comp = pd.concat([call_company(df,\"1790016919001\"),call_company(df,1792153050001)]).set_index([\"ruc\",\"codigo\"])"
   ]
  },
  {
   "cell_type": "code",
   "execution_count": 33,
   "metadata": {},
   "outputs": [
    {
     "name": "stdout",
     "output_type": "stream",
     "text": [
      "2\n"
     ]
    }
   ],
   "source": [
    "ind_metrics = metrics_calc(comp,\"1790016919001\",\"individual\")"
   ]
  },
  {
   "cell_type": "code",
   "execution_count": 34,
   "metadata": {},
   "outputs": [
    {
     "ename": "NameError",
     "evalue": "name 'plot_comparison' is not defined",
     "output_type": "error",
     "traceback": [
      "\u001b[1;31m---------------------------------------------------------------------------\u001b[0m",
      "\u001b[1;31mNameError\u001b[0m                                 Traceback (most recent call last)",
      "\u001b[1;32md:\\edydu\\OneDrive - Universidad San Francisco de Quito\\Personal Projects\\Finapp\\notebooks\\exploratory\\features.ipynb Cell 11\u001b[0m line \u001b[0;36m1\n\u001b[1;32m----> <a href='vscode-notebook-cell:/d%3A/edydu/OneDrive%20-%20Universidad%20San%20Francisco%20de%20Quito/Personal%20Projects/Finapp/notebooks/exploratory/features.ipynb#X25sZmlsZQ%3D%3D?line=0'>1</a>\u001b[0m plot_comparison(ind_metrics)\n",
      "\u001b[1;31mNameError\u001b[0m: name 'plot_comparison' is not defined"
     ]
    }
   ],
   "source": [
    "plot_comparison(ind_metrics)"
   ]
  }
 ],
 "metadata": {
  "kernelspec": {
   "display_name": "venv",
   "language": "python",
   "name": "python3"
  },
  "language_info": {
   "codemirror_mode": {
    "name": "ipython",
    "version": 3
   },
   "file_extension": ".py",
   "mimetype": "text/x-python",
   "name": "python",
   "nbconvert_exporter": "python",
   "pygments_lexer": "ipython3",
   "version": "3.9.12"
  },
  "orig_nbformat": 4
 },
 "nbformat": 4,
 "nbformat_minor": 2
}
