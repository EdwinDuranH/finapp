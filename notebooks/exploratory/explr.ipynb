{
 "cells": [
  {
   "cell_type": "code",
   "execution_count": 2,
   "metadata": {},
   "outputs": [
    {
     "ename": "NoSectionError",
     "evalue": "No section: 'Directory'",
     "output_type": "error",
     "traceback": [
      "\u001b[1;31m---------------------------------------------------------------------------\u001b[0m",
      "\u001b[1;31mNoSectionError\u001b[0m                            Traceback (most recent call last)",
      "\u001b[1;32md:\\edydu\\OneDrive - Universidad San Francisco de Quito\\Personal Projects\\Finapp\\notebooks\\exploratory\\explr.ipynb Cell 1\u001b[0m line \u001b[0;36m<cell line: 9>\u001b[1;34m()\u001b[0m\n\u001b[0;32m      <a href='vscode-notebook-cell:/d%3A/edydu/OneDrive%20-%20Universidad%20San%20Francisco%20de%20Quito/Personal%20Projects/Finapp/notebooks/exploratory/explr.ipynb#W0sZmlsZQ%3D%3D?line=5'>6</a>\u001b[0m \u001b[39mimport\u001b[39;00m \u001b[39msys\u001b[39;00m\n\u001b[0;32m      <a href='vscode-notebook-cell:/d%3A/edydu/OneDrive%20-%20Universidad%20San%20Francisco%20de%20Quito/Personal%20Projects/Finapp/notebooks/exploratory/explr.ipynb#W0sZmlsZQ%3D%3D?line=6'>7</a>\u001b[0m sys\u001b[39m.\u001b[39mpath\u001b[39m.\u001b[39mappend(\u001b[39m'\u001b[39m\u001b[39m../../\u001b[39m\u001b[39m'\u001b[39m)\n\u001b[1;32m----> <a href='vscode-notebook-cell:/d%3A/edydu/OneDrive%20-%20Universidad%20San%20Francisco%20de%20Quito/Personal%20Projects/Finapp/notebooks/exploratory/explr.ipynb#W0sZmlsZQ%3D%3D?line=8'>9</a>\u001b[0m \u001b[39mfrom\u001b[39;00m \u001b[39msrc\u001b[39;00m\u001b[39m.\u001b[39;00m\u001b[39mutils\u001b[39;00m\u001b[39m.\u001b[39;00m\u001b[39mpreprocessing\u001b[39;00m \u001b[39mimport\u001b[39;00m check_negative, recursive_agg\n\u001b[0;32m     <a href='vscode-notebook-cell:/d%3A/edydu/OneDrive%20-%20Universidad%20San%20Francisco%20de%20Quito/Personal%20Projects/Finapp/notebooks/exploratory/explr.ipynb#W0sZmlsZQ%3D%3D?line=10'>11</a>\u001b[0m sns\u001b[39m.\u001b[39mset(\n\u001b[0;32m     <a href='vscode-notebook-cell:/d%3A/edydu/OneDrive%20-%20Universidad%20San%20Francisco%20de%20Quito/Personal%20Projects/Finapp/notebooks/exploratory/explr.ipynb#W0sZmlsZQ%3D%3D?line=11'>12</a>\u001b[0m     style\u001b[39m=\u001b[39m\u001b[39m\"\u001b[39m\u001b[39mwhitegrid\u001b[39m\u001b[39m\"\u001b[39m,\n\u001b[0;32m     <a href='vscode-notebook-cell:/d%3A/edydu/OneDrive%20-%20Universidad%20San%20Francisco%20de%20Quito/Personal%20Projects/Finapp/notebooks/exploratory/explr.ipynb#W0sZmlsZQ%3D%3D?line=12'>13</a>\u001b[0m     rc\u001b[39m=\u001b[39m{\u001b[39m\"\u001b[39m\u001b[39mfigure.figsize\u001b[39m\u001b[39m\"\u001b[39m: (\u001b[39m12\u001b[39m, \u001b[39m8\u001b[39m)},\n\u001b[0;32m     <a href='vscode-notebook-cell:/d%3A/edydu/OneDrive%20-%20Universidad%20San%20Francisco%20de%20Quito/Personal%20Projects/Finapp/notebooks/exploratory/explr.ipynb#W0sZmlsZQ%3D%3D?line=13'>14</a>\u001b[0m )\n",
      "File \u001b[1;32md:\\edydu\\Anaconda\\lib\\site-packages\\src\\__init__.py:2\u001b[0m, in \u001b[0;36m<module>\u001b[1;34m\u001b[0m\n\u001b[0;32m      1\u001b[0m \u001b[39mfrom\u001b[39;00m \u001b[39msrc\u001b[39;00m \u001b[39mimport\u001b[39;00m pyreg\n\u001b[1;32m----> 2\u001b[0m \u001b[39mfrom\u001b[39;00m \u001b[39msrc\u001b[39;00m \u001b[39mimport\u001b[39;00m pystata\n",
      "File \u001b[1;32md:\\edydu\\Anaconda\\lib\\site-packages\\src\\pystata.py:15\u001b[0m, in \u001b[0;36m<module>\u001b[1;34m\u001b[0m\n\u001b[0;32m     13\u001b[0m config \u001b[39m=\u001b[39m configparser\u001b[39m.\u001b[39mConfigParser(interpolation\u001b[39m=\u001b[39mconfigparser\u001b[39m.\u001b[39mExtendedInterpolation())\n\u001b[0;32m     14\u001b[0m config\u001b[39m.\u001b[39mread(\u001b[39m'\u001b[39m\u001b[39mconfig.ini\u001b[39m\u001b[39m'\u001b[39m)\n\u001b[1;32m---> 15\u001b[0m stata_path \u001b[39m=\u001b[39m  config\u001b[39m.\u001b[39;49mget(\u001b[39m'\u001b[39;49m\u001b[39mDirectory\u001b[39;49m\u001b[39m'\u001b[39;49m, \u001b[39m'\u001b[39;49m\u001b[39mStataDir\u001b[39;49m\u001b[39m'\u001b[39;49m)\n\u001b[0;32m     17\u001b[0m \u001b[39mclass\u001b[39;00m \u001b[39mpystata\u001b[39;00m(OLS):\n\u001b[0;32m     18\u001b[0m     \u001b[39m'''Tunnel between python and Stata '''\u001b[39;00m\n",
      "File \u001b[1;32md:\\edydu\\Anaconda\\lib\\configparser.py:781\u001b[0m, in \u001b[0;36mRawConfigParser.get\u001b[1;34m(self, section, option, raw, vars, fallback)\u001b[0m\n\u001b[0;32m    766\u001b[0m \u001b[39m\"\"\"Get an option value for a given section.\u001b[39;00m\n\u001b[0;32m    767\u001b[0m \n\u001b[0;32m    768\u001b[0m \u001b[39mIf `vars' is provided, it must be a dictionary. The option is looked up\u001b[39;00m\n\u001b[1;32m   (...)\u001b[0m\n\u001b[0;32m    778\u001b[0m \u001b[39mThe section DEFAULT is special.\u001b[39;00m\n\u001b[0;32m    779\u001b[0m \u001b[39m\"\"\"\u001b[39;00m\n\u001b[0;32m    780\u001b[0m \u001b[39mtry\u001b[39;00m:\n\u001b[1;32m--> 781\u001b[0m     d \u001b[39m=\u001b[39m \u001b[39mself\u001b[39;49m\u001b[39m.\u001b[39;49m_unify_values(section, \u001b[39mvars\u001b[39;49m)\n\u001b[0;32m    782\u001b[0m \u001b[39mexcept\u001b[39;00m NoSectionError:\n\u001b[0;32m    783\u001b[0m     \u001b[39mif\u001b[39;00m fallback \u001b[39mis\u001b[39;00m _UNSET:\n",
      "File \u001b[1;32md:\\edydu\\Anaconda\\lib\\configparser.py:1152\u001b[0m, in \u001b[0;36mRawConfigParser._unify_values\u001b[1;34m(self, section, vars)\u001b[0m\n\u001b[0;32m   1150\u001b[0m \u001b[39mexcept\u001b[39;00m \u001b[39mKeyError\u001b[39;00m:\n\u001b[0;32m   1151\u001b[0m     \u001b[39mif\u001b[39;00m section \u001b[39m!=\u001b[39m \u001b[39mself\u001b[39m\u001b[39m.\u001b[39mdefault_section:\n\u001b[1;32m-> 1152\u001b[0m         \u001b[39mraise\u001b[39;00m NoSectionError(section) \u001b[39mfrom\u001b[39;00m \u001b[39mNone\u001b[39m\n\u001b[0;32m   1153\u001b[0m \u001b[39m# Update with the entry specific variables\u001b[39;00m\n\u001b[0;32m   1154\u001b[0m vardict \u001b[39m=\u001b[39m {}\n",
      "\u001b[1;31mNoSectionError\u001b[0m: No section: 'Directory'"
     ]
    }
   ],
   "source": [
    "import pandas as pd\n",
    "import plotly.express as px\n",
    "import matplotlib.pyplot as plt\n",
    "import seaborn as sns\n",
    "\n",
    "import sys\n",
    "sys.path.append('../../')\n",
    "\n",
    "from src.utils.preprocessing import check_negative, recursive_agg\n",
    "\n",
    "sns.set(\n",
    "    style=\"whitegrid\",\n",
    "    rc={\"figure.figsize\": (12, 8)},\n",
    ")"
   ]
  },
  {
   "cell_type": "code",
   "execution_count": null,
   "metadata": {},
   "outputs": [],
   "source": [
    "df = pd.read_csv('../../data/processed/balances2022.csv',\n",
    "                 dtype={'ruc': str, 'codigo': str, 'valor': float})\n",
    "\n",
    "\n",
    "ctns = pd.read_csv('../../data/processed/balances2022_meta.csv',\n",
    "                   dtype={'codigo': str, 'cuenta': str})"
   ]
  },
  {
   "cell_type": "code",
   "execution_count": null,
   "metadata": {},
   "outputs": [],
   "source": []
  },
  {
   "cell_type": "code",
   "execution_count": null,
   "metadata": {},
   "outputs": [],
   "source": []
  },
  {
   "cell_type": "markdown",
   "metadata": {},
   "source": [
    "**Data Quality Checks**\n",
    "\n",
    "Quality Checks Pipeline"
   ]
  },
  {
   "cell_type": "code",
   "execution_count": null,
   "metadata": {},
   "outputs": [],
   "source": [
    "# 1790016919001 for Corporacion Favorita\n",
    "df_favorita = (df\n",
    " .query('ruc==\"1790016919001\"')\n",
    " .merge(\n",
    "     ctns, \n",
    "     how='inner', \n",
    "     on='codigo'\n",
    " )\n",
    " # check the substracting accounts are registered with negative numbers\n",
    " .pipe(check_negative)\n",
    " # check that immidiate children accounts add up to the value of the larger accounts\n",
    " .assign(valor=lambda df_: [recursive_agg(df_, v) \n",
    "                            for v in df_.codigo.values])\n",
    ")"
   ]
  },
  {
   "cell_type": "code",
   "execution_count": null,
   "metadata": {},
   "outputs": [
    {
     "data": {
      "text/html": [
       "<div>\n",
       "<style scoped>\n",
       "    .dataframe tbody tr th:only-of-type {\n",
       "        vertical-align: middle;\n",
       "    }\n",
       "\n",
       "    .dataframe tbody tr th {\n",
       "        vertical-align: top;\n",
       "    }\n",
       "\n",
       "    .dataframe thead th {\n",
       "        text-align: right;\n",
       "    }\n",
       "</style>\n",
       "<table border=\"1\" class=\"dataframe\">\n",
       "  <thead>\n",
       "    <tr style=\"text-align: right;\">\n",
       "      <th></th>\n",
       "      <th>ruc</th>\n",
       "      <th>codigo</th>\n",
       "      <th>valor</th>\n",
       "      <th>cuenta</th>\n",
       "    </tr>\n",
       "  </thead>\n",
       "  <tbody>\n",
       "    <tr>\n",
       "      <th>0</th>\n",
       "      <td>1790016919001</td>\n",
       "      <td>1</td>\n",
       "      <td>2.480404e+09</td>\n",
       "      <td>ACTIVO</td>\n",
       "    </tr>\n",
       "    <tr>\n",
       "      <th>1</th>\n",
       "      <td>1790016919001</td>\n",
       "      <td>101</td>\n",
       "      <td>7.016353e+08</td>\n",
       "      <td>ACTIVO CORRIENTE</td>\n",
       "    </tr>\n",
       "    <tr>\n",
       "      <th>2</th>\n",
       "      <td>1790016919001</td>\n",
       "      <td>10101</td>\n",
       "      <td>7.283312e+06</td>\n",
       "      <td>EFECTIVO Y EQUIVALENTES DE EFECTIVO</td>\n",
       "    </tr>\n",
       "    <tr>\n",
       "      <th>3</th>\n",
       "      <td>1790016919001</td>\n",
       "      <td>1010101</td>\n",
       "      <td>1.342367e+06</td>\n",
       "      <td>CAJA</td>\n",
       "    </tr>\n",
       "    <tr>\n",
       "      <th>4</th>\n",
       "      <td>1790016919001</td>\n",
       "      <td>1010102</td>\n",
       "      <td>0.000000e+00</td>\n",
       "      <td>INSTITUCIONES FINANCIERAS PÚBLICAS</td>\n",
       "    </tr>\n",
       "    <tr>\n",
       "      <th>...</th>\n",
       "      <td>...</td>\n",
       "      <td>...</td>\n",
       "      <td>...</td>\n",
       "      <td>...</td>\n",
       "    </tr>\n",
       "    <tr>\n",
       "      <th>617</th>\n",
       "      <td>1790016919001</td>\n",
       "      <td>80008</td>\n",
       "      <td>0.000000e+00</td>\n",
       "      <td>IMPUESTO SOBRE LAS GANANCIAS RELATIVO A OTRO R...</td>\n",
       "    </tr>\n",
       "    <tr>\n",
       "      <th>618</th>\n",
       "      <td>1790016919001</td>\n",
       "      <td>80009</td>\n",
       "      <td>0.000000e+00</td>\n",
       "      <td>OTROS (DETALLAR EN NOTAS)</td>\n",
       "    </tr>\n",
       "    <tr>\n",
       "      <th>619</th>\n",
       "      <td>1790016919001</td>\n",
       "      <td>801</td>\n",
       "      <td>0.000000e+00</td>\n",
       "      <td>RESULTADO INTEGRAL TOTAL DEL AÑO</td>\n",
       "    </tr>\n",
       "    <tr>\n",
       "      <th>620</th>\n",
       "      <td>1790016919001</td>\n",
       "      <td>80101</td>\n",
       "      <td>0.000000e+00</td>\n",
       "      <td>PROPIETARIOS DE LA CONTROLADORA</td>\n",
       "    </tr>\n",
       "    <tr>\n",
       "      <th>621</th>\n",
       "      <td>1790016919001</td>\n",
       "      <td>80102</td>\n",
       "      <td>0.000000e+00</td>\n",
       "      <td>PARTICIPACION NO CONTROLADORA (INFORMATIVO)</td>\n",
       "    </tr>\n",
       "  </tbody>\n",
       "</table>\n",
       "<p>622 rows × 4 columns</p>\n",
       "</div>"
      ],
      "text/plain": [
       "               ruc   codigo         valor  \\\n",
       "0    1790016919001        1  2.480404e+09   \n",
       "1    1790016919001      101  7.016353e+08   \n",
       "2    1790016919001    10101  7.283312e+06   \n",
       "3    1790016919001  1010101  1.342367e+06   \n",
       "4    1790016919001  1010102  0.000000e+00   \n",
       "..             ...      ...           ...   \n",
       "617  1790016919001    80008  0.000000e+00   \n",
       "618  1790016919001    80009  0.000000e+00   \n",
       "619  1790016919001      801  0.000000e+00   \n",
       "620  1790016919001    80101  0.000000e+00   \n",
       "621  1790016919001    80102  0.000000e+00   \n",
       "\n",
       "                                                cuenta  \n",
       "0                                               ACTIVO  \n",
       "1                                     ACTIVO CORRIENTE  \n",
       "2                  EFECTIVO Y EQUIVALENTES DE EFECTIVO  \n",
       "3                                                 CAJA  \n",
       "4                   INSTITUCIONES FINANCIERAS PÚBLICAS  \n",
       "..                                                 ...  \n",
       "617  IMPUESTO SOBRE LAS GANANCIAS RELATIVO A OTRO R...  \n",
       "618                          OTROS (DETALLAR EN NOTAS)  \n",
       "619                   RESULTADO INTEGRAL TOTAL DEL AÑO  \n",
       "620                    PROPIETARIOS DE LA CONTROLADORA  \n",
       "621        PARTICIPACION NO CONTROLADORA (INFORMATIVO)  \n",
       "\n",
       "[622 rows x 4 columns]"
      ]
     },
     "execution_count": 39,
     "metadata": {},
     "output_type": "execute_result"
    }
   ],
   "source": [
    "df_favorita"
   ]
  },
  {
   "cell_type": "code",
   "execution_count": null,
   "metadata": {},
   "outputs": [],
   "source": []
  },
  {
   "cell_type": "markdown",
   "metadata": {},
   "source": [
    "**Aggregations and Visualization**\n",
    "\n",
    "Aggregations and Visualization Pipeline"
   ]
  },
  {
   "cell_type": "code",
   "execution_count": null,
   "metadata": {},
   "outputs": [],
   "source": []
  }
 ],
 "metadata": {
  "kernelspec": {
   "display_name": "venv",
   "language": "python",
   "name": "python3"
  },
  "language_info": {
   "codemirror_mode": {
    "name": "ipython",
    "version": 3
   },
   "file_extension": ".py",
   "mimetype": "text/x-python",
   "name": "python",
   "nbconvert_exporter": "python",
   "pygments_lexer": "ipython3",
   "version": "3.9.12"
  },
  "orig_nbformat": 4
 },
 "nbformat": 4,
 "nbformat_minor": 2
}
