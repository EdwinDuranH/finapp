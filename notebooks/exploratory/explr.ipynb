{
 "cells": [
  {
   "cell_type": "code",
   "execution_count": 3,
   "metadata": {},
   "outputs": [],
   "source": [
    "import pandas as pd\n",
    "\n",
    "import sys\n",
    "sys.path.append('../../src')\n",
    "\n",
    "from utils.preprocessing import check_negative, recursive_agg"
   ]
  },
  {
   "cell_type": "code",
   "execution_count": 4,
   "metadata": {},
   "outputs": [],
   "source": [
    "df = pd.read_csv('../../data/processed/balances2022.csv',\n",
    "                 dtype={'ruc': str, 'codigo': str, 'valor': float})\n",
    "\n",
    "\n",
    "ctns = pd.read_csv('../../data/processed/balances2022_meta.csv',\n",
    "                   dtype={'codigo': str, 'cuenta': str})"
   ]
  },
  {
   "cell_type": "code",
   "execution_count": null,
   "metadata": {},
   "outputs": [],
   "source": []
  },
  {
   "cell_type": "code",
   "execution_count": null,
   "metadata": {},
   "outputs": [],
   "source": []
  },
  {
   "cell_type": "markdown",
   "metadata": {},
   "source": [
    "**Data Quality Checks**\n",
    "\n",
    "Quality Checks Pipeline"
   ]
  },
  {
   "cell_type": "code",
   "execution_count": 5,
   "metadata": {},
   "outputs": [],
   "source": [
    "# 1790016919001 for Corporacion Favorita\n",
    "df_favorita = (df\n",
    " .query('ruc==\"1790016919001\"')\n",
    " .merge(\n",
    "     ctns, \n",
    "     how='inner', \n",
    "     on='codigo'\n",
    " )\n",
    " # check the substracting accounts are registered with negative numbers\n",
    " .pipe(check_negative)\n",
    " # check that immidiate children accounts add up to the value of the larger accounts\n",
    " .assign(valor=lambda df_: [recursive_agg(df_, v) \n",
    "                            for v in df_.codigo.values])\n",
    ")"
   ]
  },
  {
   "cell_type": "code",
   "execution_count": null,
   "metadata": {},
   "outputs": [],
   "source": []
  },
  {
   "cell_type": "code",
   "execution_count": null,
   "metadata": {},
   "outputs": [],
   "source": []
  },
  {
   "cell_type": "markdown",
   "metadata": {},
   "source": [
    "**Aggregations and Visualization**\n",
    "\n",
    "Aggregations and Visualization Pipeline"
   ]
  },
  {
   "cell_type": "code",
   "execution_count": 8,
   "metadata": {},
   "outputs": [],
   "source": [
    "import plotly.express as px\n",
    "import matplotlib.pyplot as plt\n",
    "import seaborn as sns\n",
    "\n",
    "sns.set(\n",
    "    style=\"whitegrid\",\n",
    "    rc={\"figure.figsize\": (12, 8)},\n",
    ")"
   ]
  },
  {
   "cell_type": "code",
   "execution_count": 9,
   "metadata": {},
   "outputs": [
    {
     "data": {
      "text/html": [
       "<div>\n",
       "<style scoped>\n",
       "    .dataframe tbody tr th:only-of-type {\n",
       "        vertical-align: middle;\n",
       "    }\n",
       "\n",
       "    .dataframe tbody tr th {\n",
       "        vertical-align: top;\n",
       "    }\n",
       "\n",
       "    .dataframe thead th {\n",
       "        text-align: right;\n",
       "    }\n",
       "</style>\n",
       "<table border=\"1\" class=\"dataframe\">\n",
       "  <thead>\n",
       "    <tr style=\"text-align: right;\">\n",
       "      <th></th>\n",
       "      <th>ruc</th>\n",
       "      <th>codigo</th>\n",
       "      <th>valor</th>\n",
       "      <th>cuenta</th>\n",
       "    </tr>\n",
       "  </thead>\n",
       "  <tbody>\n",
       "    <tr>\n",
       "      <th>0</th>\n",
       "      <td>1790016919001</td>\n",
       "      <td>1</td>\n",
       "      <td>2.480404e+09</td>\n",
       "      <td>ACTIVO</td>\n",
       "    </tr>\n",
       "    <tr>\n",
       "      <th>1</th>\n",
       "      <td>1790016919001</td>\n",
       "      <td>101</td>\n",
       "      <td>7.016353e+08</td>\n",
       "      <td>ACTIVO CORRIENTE</td>\n",
       "    </tr>\n",
       "    <tr>\n",
       "      <th>2</th>\n",
       "      <td>1790016919001</td>\n",
       "      <td>10101</td>\n",
       "      <td>7.283312e+06</td>\n",
       "      <td>EFECTIVO Y EQUIVALENTES DE EFECTIVO</td>\n",
       "    </tr>\n",
       "    <tr>\n",
       "      <th>3</th>\n",
       "      <td>1790016919001</td>\n",
       "      <td>1010101</td>\n",
       "      <td>1.342367e+06</td>\n",
       "      <td>CAJA</td>\n",
       "    </tr>\n",
       "    <tr>\n",
       "      <th>4</th>\n",
       "      <td>1790016919001</td>\n",
       "      <td>1010102</td>\n",
       "      <td>0.000000e+00</td>\n",
       "      <td>INSTITUCIONES FINANCIERAS PÚBLICAS</td>\n",
       "    </tr>\n",
       "    <tr>\n",
       "      <th>...</th>\n",
       "      <td>...</td>\n",
       "      <td>...</td>\n",
       "      <td>...</td>\n",
       "      <td>...</td>\n",
       "    </tr>\n",
       "    <tr>\n",
       "      <th>617</th>\n",
       "      <td>1790016919001</td>\n",
       "      <td>80008</td>\n",
       "      <td>0.000000e+00</td>\n",
       "      <td>IMPUESTO SOBRE LAS GANANCIAS RELATIVO A OTRO R...</td>\n",
       "    </tr>\n",
       "    <tr>\n",
       "      <th>618</th>\n",
       "      <td>1790016919001</td>\n",
       "      <td>80009</td>\n",
       "      <td>0.000000e+00</td>\n",
       "      <td>OTROS (DETALLAR EN NOTAS)</td>\n",
       "    </tr>\n",
       "    <tr>\n",
       "      <th>619</th>\n",
       "      <td>1790016919001</td>\n",
       "      <td>801</td>\n",
       "      <td>0.000000e+00</td>\n",
       "      <td>RESULTADO INTEGRAL TOTAL DEL AÑO</td>\n",
       "    </tr>\n",
       "    <tr>\n",
       "      <th>620</th>\n",
       "      <td>1790016919001</td>\n",
       "      <td>80101</td>\n",
       "      <td>0.000000e+00</td>\n",
       "      <td>PROPIETARIOS DE LA CONTROLADORA</td>\n",
       "    </tr>\n",
       "    <tr>\n",
       "      <th>621</th>\n",
       "      <td>1790016919001</td>\n",
       "      <td>80102</td>\n",
       "      <td>0.000000e+00</td>\n",
       "      <td>PARTICIPACION NO CONTROLADORA (INFORMATIVO)</td>\n",
       "    </tr>\n",
       "  </tbody>\n",
       "</table>\n",
       "<p>622 rows × 4 columns</p>\n",
       "</div>"
      ],
      "text/plain": [
       "               ruc   codigo         valor  \\\n",
       "0    1790016919001        1  2.480404e+09   \n",
       "1    1790016919001      101  7.016353e+08   \n",
       "2    1790016919001    10101  7.283312e+06   \n",
       "3    1790016919001  1010101  1.342367e+06   \n",
       "4    1790016919001  1010102  0.000000e+00   \n",
       "..             ...      ...           ...   \n",
       "617  1790016919001    80008  0.000000e+00   \n",
       "618  1790016919001    80009  0.000000e+00   \n",
       "619  1790016919001      801  0.000000e+00   \n",
       "620  1790016919001    80101  0.000000e+00   \n",
       "621  1790016919001    80102  0.000000e+00   \n",
       "\n",
       "                                                cuenta  \n",
       "0                                               ACTIVO  \n",
       "1                                     ACTIVO CORRIENTE  \n",
       "2                  EFECTIVO Y EQUIVALENTES DE EFECTIVO  \n",
       "3                                                 CAJA  \n",
       "4                   INSTITUCIONES FINANCIERAS PÚBLICAS  \n",
       "..                                                 ...  \n",
       "617  IMPUESTO SOBRE LAS GANANCIAS RELATIVO A OTRO R...  \n",
       "618                          OTROS (DETALLAR EN NOTAS)  \n",
       "619                   RESULTADO INTEGRAL TOTAL DEL AÑO  \n",
       "620                    PROPIETARIOS DE LA CONTROLADORA  \n",
       "621        PARTICIPACION NO CONTROLADORA (INFORMATIVO)  \n",
       "\n",
       "[622 rows x 4 columns]"
      ]
     },
     "execution_count": 9,
     "metadata": {},
     "output_type": "execute_result"
    }
   ],
   "source": [
    "df_favorita"
   ]
  },
  {
   "cell_type": "code",
   "execution_count": 10,
   "metadata": {},
   "outputs": [
    {
     "data": {
      "text/html": [
       "<div>\n",
       "<style scoped>\n",
       "    .dataframe tbody tr th:only-of-type {\n",
       "        vertical-align: middle;\n",
       "    }\n",
       "\n",
       "    .dataframe tbody tr th {\n",
       "        vertical-align: top;\n",
       "    }\n",
       "\n",
       "    .dataframe thead th {\n",
       "        text-align: right;\n",
       "    }\n",
       "</style>\n",
       "<table border=\"1\" class=\"dataframe\">\n",
       "  <thead>\n",
       "    <tr style=\"text-align: right;\">\n",
       "      <th></th>\n",
       "      <th>ruc</th>\n",
       "      <th>codigo</th>\n",
       "      <th>valor</th>\n",
       "      <th>cuenta</th>\n",
       "    </tr>\n",
       "  </thead>\n",
       "  <tbody>\n",
       "    <tr>\n",
       "      <th>376</th>\n",
       "      <td>1790016919001</td>\n",
       "      <td>401</td>\n",
       "      <td>2.355580e+09</td>\n",
       "      <td>INGRESOS DE ACTIVIDADES ORDINARIAS</td>\n",
       "    </tr>\n",
       "  </tbody>\n",
       "</table>\n",
       "</div>"
      ],
      "text/plain": [
       "               ruc codigo         valor                              cuenta\n",
       "376  1790016919001    401  2.355580e+09  INGRESOS DE ACTIVIDADES ORDINARIAS"
      ]
     },
     "execution_count": 10,
     "metadata": {},
     "output_type": "execute_result"
    }
   ],
   "source": [
    "df_favorita.query(\"codigo=='401'\")"
   ]
  },
  {
   "cell_type": "code",
   "execution_count": 11,
   "metadata": {},
   "outputs": [
    {
     "data": {
      "text/html": [
       "<div>\n",
       "<style scoped>\n",
       "    .dataframe tbody tr th:only-of-type {\n",
       "        vertical-align: middle;\n",
       "    }\n",
       "\n",
       "    .dataframe tbody tr th {\n",
       "        vertical-align: top;\n",
       "    }\n",
       "\n",
       "    .dataframe thead th {\n",
       "        text-align: right;\n",
       "    }\n",
       "</style>\n",
       "<table border=\"1\" class=\"dataframe\">\n",
       "  <thead>\n",
       "    <tr style=\"text-align: right;\">\n",
       "      <th></th>\n",
       "      <th>ruc</th>\n",
       "      <th>codigo</th>\n",
       "      <th>valor</th>\n",
       "      <th>cuenta</th>\n",
       "    </tr>\n",
       "  </thead>\n",
       "  <tbody>\n",
       "    <tr>\n",
       "      <th>608</th>\n",
       "      <td>1790016919001</td>\n",
       "      <td>707</td>\n",
       "      <td>1.526791e+08</td>\n",
       "      <td>GANANCIA (PÉRDIDA) NETA DEL PERIODO</td>\n",
       "    </tr>\n",
       "  </tbody>\n",
       "</table>\n",
       "</div>"
      ],
      "text/plain": [
       "               ruc codigo         valor                               cuenta\n",
       "608  1790016919001    707  1.526791e+08  GANANCIA (PÉRDIDA) NETA DEL PERIODO"
      ]
     },
     "execution_count": 11,
     "metadata": {},
     "output_type": "execute_result"
    }
   ],
   "source": [
    "df_favorita.query(\"codigo=='707'\")"
   ]
  },
  {
   "cell_type": "code",
   "execution_count": 12,
   "metadata": {},
   "outputs": [
    {
     "data": {
      "text/plain": [
       "1712662748.61"
      ]
     },
     "execution_count": 12,
     "metadata": {},
     "output_type": "execute_result"
    }
   ],
   "source": [
    "df_favorita.query(\"codigo=='501'\").valor.sum()"
   ]
  },
  {
   "cell_type": "code",
   "execution_count": 13,
   "metadata": {},
   "outputs": [
    {
     "data": {
      "text/plain": [
       "2355580171.13"
      ]
     },
     "execution_count": 13,
     "metadata": {},
     "output_type": "execute_result"
    }
   ],
   "source": [
    "df_favorita.query(\"codigo=='401'\").valor.sum()"
   ]
  },
  {
   "cell_type": "code",
   "execution_count": 14,
   "metadata": {},
   "outputs": [
    {
     "data": {
      "text/plain": [
       "2355580171.13"
      ]
     },
     "execution_count": 14,
     "metadata": {},
     "output_type": "execute_result"
    }
   ],
   "source": [
    "df_favorita.query(\"codigo=='401'\").valor.sum()"
   ]
  },
  {
   "cell_type": "code",
   "execution_count": 1,
   "metadata": {},
   "outputs": [
    {
     "data": {
      "text/plain": [
       "642917422.5200002"
      ]
     },
     "execution_count": 1,
     "metadata": {},
     "output_type": "execute_result"
    }
   ],
   "source": [
    "2355580171.13 - 1712662748.61"
   ]
  },
  {
   "cell_type": "code",
   "execution_count": null,
   "metadata": {},
   "outputs": [],
   "source": []
  },
  {
   "cell_type": "code",
   "execution_count": 15,
   "metadata": {},
   "outputs": [],
   "source": [
    "ciiu = pd.read_csv(\"../../data/processed/balaces2022_ids.csv\")"
   ]
  },
  {
   "cell_type": "code",
   "execution_count": 16,
   "metadata": {},
   "outputs": [
    {
     "data": {
      "text/html": [
       "<div>\n",
       "<style scoped>\n",
       "    .dataframe tbody tr th:only-of-type {\n",
       "        vertical-align: middle;\n",
       "    }\n",
       "\n",
       "    .dataframe tbody tr th {\n",
       "        vertical-align: top;\n",
       "    }\n",
       "\n",
       "    .dataframe thead th {\n",
       "        text-align: right;\n",
       "    }\n",
       "</style>\n",
       "<table border=\"1\" class=\"dataframe\">\n",
       "  <thead>\n",
       "    <tr style=\"text-align: right;\">\n",
       "      <th></th>\n",
       "      <th>ruc</th>\n",
       "      <th>codigo</th>\n",
       "      <th>valor</th>\n",
       "      <th>cuenta</th>\n",
       "    </tr>\n",
       "  </thead>\n",
       "  <tbody>\n",
       "    <tr>\n",
       "      <th>0</th>\n",
       "      <td>1790016919001</td>\n",
       "      <td>1</td>\n",
       "      <td>2.480404e+09</td>\n",
       "      <td>ACTIVO</td>\n",
       "    </tr>\n",
       "    <tr>\n",
       "      <th>1</th>\n",
       "      <td>1790016919001</td>\n",
       "      <td>101</td>\n",
       "      <td>7.016353e+08</td>\n",
       "      <td>ACTIVO CORRIENTE</td>\n",
       "    </tr>\n",
       "    <tr>\n",
       "      <th>2</th>\n",
       "      <td>1790016919001</td>\n",
       "      <td>10101</td>\n",
       "      <td>7.283312e+06</td>\n",
       "      <td>EFECTIVO Y EQUIVALENTES DE EFECTIVO</td>\n",
       "    </tr>\n",
       "    <tr>\n",
       "      <th>3</th>\n",
       "      <td>1790016919001</td>\n",
       "      <td>1010101</td>\n",
       "      <td>1.342367e+06</td>\n",
       "      <td>CAJA</td>\n",
       "    </tr>\n",
       "    <tr>\n",
       "      <th>4</th>\n",
       "      <td>1790016919001</td>\n",
       "      <td>1010102</td>\n",
       "      <td>0.000000e+00</td>\n",
       "      <td>INSTITUCIONES FINANCIERAS PÚBLICAS</td>\n",
       "    </tr>\n",
       "    <tr>\n",
       "      <th>...</th>\n",
       "      <td>...</td>\n",
       "      <td>...</td>\n",
       "      <td>...</td>\n",
       "      <td>...</td>\n",
       "    </tr>\n",
       "    <tr>\n",
       "      <th>617</th>\n",
       "      <td>1790016919001</td>\n",
       "      <td>80008</td>\n",
       "      <td>0.000000e+00</td>\n",
       "      <td>IMPUESTO SOBRE LAS GANANCIAS RELATIVO A OTRO R...</td>\n",
       "    </tr>\n",
       "    <tr>\n",
       "      <th>618</th>\n",
       "      <td>1790016919001</td>\n",
       "      <td>80009</td>\n",
       "      <td>0.000000e+00</td>\n",
       "      <td>OTROS (DETALLAR EN NOTAS)</td>\n",
       "    </tr>\n",
       "    <tr>\n",
       "      <th>619</th>\n",
       "      <td>1790016919001</td>\n",
       "      <td>801</td>\n",
       "      <td>0.000000e+00</td>\n",
       "      <td>RESULTADO INTEGRAL TOTAL DEL AÑO</td>\n",
       "    </tr>\n",
       "    <tr>\n",
       "      <th>620</th>\n",
       "      <td>1790016919001</td>\n",
       "      <td>80101</td>\n",
       "      <td>0.000000e+00</td>\n",
       "      <td>PROPIETARIOS DE LA CONTROLADORA</td>\n",
       "    </tr>\n",
       "    <tr>\n",
       "      <th>621</th>\n",
       "      <td>1790016919001</td>\n",
       "      <td>80102</td>\n",
       "      <td>0.000000e+00</td>\n",
       "      <td>PARTICIPACION NO CONTROLADORA (INFORMATIVO)</td>\n",
       "    </tr>\n",
       "  </tbody>\n",
       "</table>\n",
       "<p>622 rows × 4 columns</p>\n",
       "</div>"
      ],
      "text/plain": [
       "               ruc   codigo         valor  \\\n",
       "0    1790016919001        1  2.480404e+09   \n",
       "1    1790016919001      101  7.016353e+08   \n",
       "2    1790016919001    10101  7.283312e+06   \n",
       "3    1790016919001  1010101  1.342367e+06   \n",
       "4    1790016919001  1010102  0.000000e+00   \n",
       "..             ...      ...           ...   \n",
       "617  1790016919001    80008  0.000000e+00   \n",
       "618  1790016919001    80009  0.000000e+00   \n",
       "619  1790016919001      801  0.000000e+00   \n",
       "620  1790016919001    80101  0.000000e+00   \n",
       "621  1790016919001    80102  0.000000e+00   \n",
       "\n",
       "                                                cuenta  \n",
       "0                                               ACTIVO  \n",
       "1                                     ACTIVO CORRIENTE  \n",
       "2                  EFECTIVO Y EQUIVALENTES DE EFECTIVO  \n",
       "3                                                 CAJA  \n",
       "4                   INSTITUCIONES FINANCIERAS PÚBLICAS  \n",
       "..                                                 ...  \n",
       "617  IMPUESTO SOBRE LAS GANANCIAS RELATIVO A OTRO R...  \n",
       "618                          OTROS (DETALLAR EN NOTAS)  \n",
       "619                   RESULTADO INTEGRAL TOTAL DEL AÑO  \n",
       "620                    PROPIETARIOS DE LA CONTROLADORA  \n",
       "621        PARTICIPACION NO CONTROLADORA (INFORMATIVO)  \n",
       "\n",
       "[622 rows x 4 columns]"
      ]
     },
     "execution_count": 16,
     "metadata": {},
     "output_type": "execute_result"
    }
   ],
   "source": [
    "df_favorita[df_favorita[\"ruc\"]== \"1790016919001\"]"
   ]
  },
  {
   "cell_type": "markdown",
   "metadata": {},
   "source": [
    "**Calling Industry and Other Companies**"
   ]
  },
  {
   "cell_type": "code",
   "execution_count": 17,
   "metadata": {},
   "outputs": [
    {
     "data": {
      "text/plain": [
       "ruc        object\n",
       "codigo     object\n",
       "valor     float64\n",
       "dtype: object"
      ]
     },
     "execution_count": 17,
     "metadata": {},
     "output_type": "execute_result"
    }
   ],
   "source": [
    "df.dtypes"
   ]
  },
  {
   "cell_type": "code",
   "execution_count": 18,
   "metadata": {},
   "outputs": [
    {
     "data": {
      "text/plain": [
       "ruc     object\n",
       "ciiu    object\n",
       "dtype: object"
      ]
     },
     "execution_count": 18,
     "metadata": {},
     "output_type": "execute_result"
    }
   ],
   "source": [
    "def read_ciiu(year):\n",
    "    ciiu_df = pd.read_csv(f\"../../data/processed/balaces{year}_ids.csv\")[[\"ruc\",\"ciiu\"]]\n",
    "    #Turn ruc into str\n",
    "    ciiu_df[\"ruc\"] = ciiu_df[\"ruc\"].astype(str)\n",
    "    return ciiu_df\n",
    "ciiu = read_ciiu(2022)\n",
    "ciiu.dtypes"
   ]
  },
  {
   "cell_type": "code",
   "execution_count": 19,
   "metadata": {},
   "outputs": [],
   "source": [
    "from typing import Union\n",
    "\n",
    "def call_industry(mother_df: pd.DataFrame,ciiu_df: pd.DataFrame,ruc: Union[str,int]) -> pd.DataFrame:\n",
    "    ciiu_str = ciiu_df.query(f\"ruc == '{str(ruc)}'\")[\"ciiu\"].values[0]\n",
    "    #Filter mother_df by companies that belong to the same industry as company input in args.\n",
    "    mother_df = (\n",
    "        mother_df\n",
    "        .merge(right = ciiu_df,how = \"inner\", on = \"ruc\")\n",
    "        .set_index(\"ruc\")\n",
    "        .query(f\"ciiu == '{ciiu_str}'\")\n",
    "        .drop(\"ciiu\",axis = 1)\n",
    "    )\n",
    "    return mother_df"
   ]
  },
  {
   "cell_type": "code",
   "execution_count": 20,
   "metadata": {},
   "outputs": [],
   "source": [
    "ciiu = read_ciiu(2022)"
   ]
  },
  {
   "cell_type": "code",
   "execution_count": 21,
   "metadata": {},
   "outputs": [],
   "source": [
    "poyo = call_industry(mother_df = df,ciiu_df = ciiu, ruc = \"1790016919001\")"
   ]
  },
  {
   "cell_type": "code",
   "execution_count": null,
   "metadata": {},
   "outputs": [
    {
     "data": {
      "text/plain": [
       "RangeIndex(start=0, stop=61607856, step=1)"
      ]
     },
     "execution_count": 17,
     "metadata": {},
     "output_type": "execute_result"
    }
   ],
   "source": [
    "df.index"
   ]
  },
  {
   "cell_type": "code",
   "execution_count": null,
   "metadata": {},
   "outputs": [
    {
     "data": {
      "text/plain": [
       "99048"
      ]
     },
     "metadata": {},
     "output_type": "display_data"
    },
    {
     "data": {
      "text/plain": [
       "591"
      ]
     },
     "metadata": {},
     "output_type": "display_data"
    }
   ],
   "source": [
    "display(len(set(df.set_index(\"ruc\").index)))\n",
    "display(len(set(poyo.index)))"
   ]
  },
  {
   "cell_type": "code",
   "execution_count": null,
   "metadata": {},
   "outputs": [
    {
     "ename": "NameError",
     "evalue": "name 'pd' is not defined",
     "output_type": "error",
     "traceback": [
      "\u001b[1;31m---------------------------------------------------------------------------\u001b[0m",
      "\u001b[1;31mNameError\u001b[0m                                 Traceback (most recent call last)",
      "\u001b[1;32md:\\edydu\\OneDrive - Universidad San Francisco de Quito\\Personal Projects\\Finapp\\notebooks\\exploratory\\explr.ipynb Cell 19\u001b[0m line \u001b[0;36m<cell line: 1>\u001b[1;34m()\u001b[0m\n\u001b[1;32m----> <a href='vscode-notebook-cell:/d%3A/edydu/OneDrive%20-%20Universidad%20San%20Francisco%20de%20Quito/Personal%20Projects/Finapp/notebooks/exploratory/explr.ipynb#X24sZmlsZQ%3D%3D?line=0'>1</a>\u001b[0m \u001b[39mdef\u001b[39;00m \u001b[39mcall_company\u001b[39m(mother_df: pd\u001b[39m.\u001b[39mDataFrame,ruc: \u001b[39mstr\u001b[39m):\n\u001b[0;32m      <a href='vscode-notebook-cell:/d%3A/edydu/OneDrive%20-%20Universidad%20San%20Francisco%20de%20Quito/Personal%20Projects/Finapp/notebooks/exploratory/explr.ipynb#X24sZmlsZQ%3D%3D?line=1'>2</a>\u001b[0m     df_company \u001b[39m=\u001b[39m mother_df\u001b[39m.\u001b[39mquery(\u001b[39mf\u001b[39m\u001b[39m\"\u001b[39m\u001b[39mruc == \u001b[39m\u001b[39m'\u001b[39m\u001b[39m{\u001b[39;00mruc\u001b[39m}\u001b[39;00m\u001b[39m'\u001b[39m\u001b[39m\"\u001b[39m)\n\u001b[0;32m      <a href='vscode-notebook-cell:/d%3A/edydu/OneDrive%20-%20Universidad%20San%20Francisco%20de%20Quito/Personal%20Projects/Finapp/notebooks/exploratory/explr.ipynb#X24sZmlsZQ%3D%3D?line=2'>3</a>\u001b[0m     \u001b[39mreturn\u001b[39;00m df_company\n",
      "\u001b[1;31mNameError\u001b[0m: name 'pd' is not defined"
     ]
    }
   ],
   "source": [
    "def call_company(mother_df: pd.DataFrame,ruc: str):\n",
    "    df_company = mother_df.query(f\"ruc == '{ruc}'\")\n",
    "    return df_company"
   ]
  },
  {
   "cell_type": "code",
   "execution_count": null,
   "metadata": {},
   "outputs": [
    {
     "data": {
      "text/html": [
       "<div>\n",
       "<style scoped>\n",
       "    .dataframe tbody tr th:only-of-type {\n",
       "        vertical-align: middle;\n",
       "    }\n",
       "\n",
       "    .dataframe tbody tr th {\n",
       "        vertical-align: top;\n",
       "    }\n",
       "\n",
       "    .dataframe thead th {\n",
       "        text-align: right;\n",
       "    }\n",
       "</style>\n",
       "<table border=\"1\" class=\"dataframe\">\n",
       "  <thead>\n",
       "    <tr style=\"text-align: right;\">\n",
       "      <th></th>\n",
       "      <th>codigo</th>\n",
       "      <th>valor</th>\n",
       "    </tr>\n",
       "    <tr>\n",
       "      <th>ruc</th>\n",
       "      <th></th>\n",
       "      <th></th>\n",
       "    </tr>\n",
       "  </thead>\n",
       "  <tbody>\n",
       "    <tr>\n",
       "      <th>1790016919001</th>\n",
       "      <td>1</td>\n",
       "      <td>2.480404e+09</td>\n",
       "    </tr>\n",
       "    <tr>\n",
       "      <th>1790016919001</th>\n",
       "      <td>101</td>\n",
       "      <td>7.016353e+08</td>\n",
       "    </tr>\n",
       "    <tr>\n",
       "      <th>1790016919001</th>\n",
       "      <td>10101</td>\n",
       "      <td>7.283312e+06</td>\n",
       "    </tr>\n",
       "    <tr>\n",
       "      <th>1790016919001</th>\n",
       "      <td>1010101</td>\n",
       "      <td>1.342367e+06</td>\n",
       "    </tr>\n",
       "    <tr>\n",
       "      <th>1790016919001</th>\n",
       "      <td>1010102</td>\n",
       "      <td>0.000000e+00</td>\n",
       "    </tr>\n",
       "    <tr>\n",
       "      <th>...</th>\n",
       "      <td>...</td>\n",
       "      <td>...</td>\n",
       "    </tr>\n",
       "    <tr>\n",
       "      <th>1790016919001</th>\n",
       "      <td>80008</td>\n",
       "      <td>0.000000e+00</td>\n",
       "    </tr>\n",
       "    <tr>\n",
       "      <th>1790016919001</th>\n",
       "      <td>80009</td>\n",
       "      <td>0.000000e+00</td>\n",
       "    </tr>\n",
       "    <tr>\n",
       "      <th>1790016919001</th>\n",
       "      <td>801</td>\n",
       "      <td>0.000000e+00</td>\n",
       "    </tr>\n",
       "    <tr>\n",
       "      <th>1790016919001</th>\n",
       "      <td>80101</td>\n",
       "      <td>0.000000e+00</td>\n",
       "    </tr>\n",
       "    <tr>\n",
       "      <th>1790016919001</th>\n",
       "      <td>80102</td>\n",
       "      <td>0.000000e+00</td>\n",
       "    </tr>\n",
       "  </tbody>\n",
       "</table>\n",
       "<p>622 rows × 2 columns</p>\n",
       "</div>"
      ],
      "text/plain": [
       "                codigo         valor\n",
       "ruc                                 \n",
       "1790016919001        1  2.480404e+09\n",
       "1790016919001      101  7.016353e+08\n",
       "1790016919001    10101  7.283312e+06\n",
       "1790016919001  1010101  1.342367e+06\n",
       "1790016919001  1010102  0.000000e+00\n",
       "...                ...           ...\n",
       "1790016919001    80008  0.000000e+00\n",
       "1790016919001    80009  0.000000e+00\n",
       "1790016919001      801  0.000000e+00\n",
       "1790016919001    80101  0.000000e+00\n",
       "1790016919001    80102  0.000000e+00\n",
       "\n",
       "[622 rows x 2 columns]"
      ]
     },
     "execution_count": 108,
     "metadata": {},
     "output_type": "execute_result"
    }
   ],
   "source": [
    "get_company(poyo,\"1790016919001\")"
   ]
  },
  {
   "cell_type": "code",
   "execution_count": null,
   "metadata": {},
   "outputs": [],
   "source": []
  },
  {
   "cell_type": "code",
   "execution_count": null,
   "metadata": {},
   "outputs": [],
   "source": []
  },
  {
   "cell_type": "code",
   "execution_count": null,
   "metadata": {},
   "outputs": [],
   "source": []
  }
 ],
 "metadata": {
  "kernelspec": {
   "display_name": "venv",
   "language": "python",
   "name": "python3"
  },
  "language_info": {
   "codemirror_mode": {
    "name": "ipython",
    "version": 3
   },
   "file_extension": ".py",
   "mimetype": "text/x-python",
   "name": "python",
   "nbconvert_exporter": "python",
   "pygments_lexer": "ipython3",
   "version": "3.9.12"
  },
  "orig_nbformat": 4
 },
 "nbformat": 4,
 "nbformat_minor": 2
}
